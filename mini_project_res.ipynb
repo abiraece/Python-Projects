{
 "cells": [
  {
   "cell_type": "markdown",
   "metadata": {},
   "source": [
    "# <center>PGP Data Science Engineering</center>\n",
    "## <center>Introduction to Programming – Mini Project:</center>\n"
   ]
  },
  {
   "cell_type": "markdown",
   "metadata": {},
   "source": [
    "### Problem 1:\n",
    "\n",
    "1. Write a program to calculate area of shapes. Your program should be capable of calculating the area of a square, rectangle, triangle and a circle. The user should be presented with options to select the shape. Based on which shape is chosed by the user, the program should ask for the appropriate input and print the resulting area on the screen.\n",
    "\n",
    "When the program is run, the screen should display something like this:\n",
    "\n",
    "**Which shape would you like to calculate the area for? Please enter the option number-**<br>\n",
    "**1. Square**<br>\n",
    "**2. Rectangle**<br>\n",
    "**3. Triangle**<br>\n",
    "**4. Circle**<br>\n",
    "**Enter Option: _**\n",
    "\n",
    "Say the user enters the option 1.\n",
    "\n",
    "**Please enter the length of a side: _**\n",
    "\n",
    "If the user enters a value of 5. The output should be:\n",
    "\n",
    "**The area of the square is 25**\n",
    "\n",
    "This program should indicate that the input is invalid if the user enters a character instead of a number as input. For instance if the user enters a value of ‘a’ instead of 5 in the previous example the program should prompt:\n",
    "\n",
    "**Invalid input, please enter a number: _**\n"
   ]
  },
  {
   "cell_type": "code",
   "execution_count": 42,
   "metadata": {},
   "outputs": [
    {
     "name": "stdout",
     "output_type": "stream",
     "text": [
      "\n",
      "      1 to find Area of Square\n",
      "      2 to find Area of Rectangle\n",
      "      3 to find Area of Triangle\n",
      "      4 to find Area of Circle\n",
      "Enter your option to perform specific operation: 5\n",
      "Invalid Input\n",
      "Please Enter the number: 1\n",
      "opt_1 is Square\n",
      "Enter the Side of Square: 3.5\n",
      "Area of Square is :  12.25\n"
     ]
    }
   ],
   "source": [
    "def area_square():\n",
    "    print('opt_1 is Square') \n",
    "    side = float(input('Enter the Side of Square: '))\n",
    "    area_of_square = side * side      # Square = a**2\n",
    "    print('Area of Square is : ',area_of_square)\n",
    "\n",
    "def area_rectangle():\n",
    "    print('opt_2 is Rectangle') \n",
    "    length = float(input('Enter the Length of Rectangle: '))\n",
    "    breath = float(input('Enter the Breath of Rectangle: '))\n",
    "    area_of_Rectangle = length * breath   # Rectangle = l*b\n",
    "    print('Area of Rectangle is : ',area_of_Rectangle)\n",
    "\n",
    "def area_triangle():\n",
    "    print('opt_3 is Triangle') \n",
    "    breath = float(input('Enter the Breath of Triangle: '))\n",
    "    height = float(input('Enter the height of Triangle: '))\n",
    "    area_of_Triangle = 0.5 * breath * height    # Triangle = 1/2*b*h\n",
    "    print('Area of Triangle is  : ',area_of_Triangle)    \n",
    "    \n",
    "def area_circle():    \n",
    "    print('opt_4 is Circle') \n",
    "    pi = 3.14\n",
    "    radius = float(input('Enter the radius of Circle: '))\n",
    "    area_of_Circle = pi * radius ** 2    # Circle = pi*r*2\n",
    "    print('Area of Circle is : ',area_of_Circle) \n",
    "  \n",
    "\n",
    "def invalid_input():\n",
    "    print('Invalid Input')\n",
    "    opt = input('Please Enter the number: ')\n",
    "    if(opt == '1'):\n",
    "        area_square()\n",
    "    elif(opt == '2'):\n",
    "        area_rectangle()\n",
    "    elif(opt == '3'):\n",
    "        area_triangle()\n",
    "    elif(opt == '4'):\n",
    "        area_circle()\n",
    "    else:\n",
    "        invalid_input()\n",
    "    \n",
    "def input_fuct():\n",
    "    print('''\n",
    "      1 to find Area of Square\n",
    "      2 to find Area of Rectangle\n",
    "      3 to find Area of Triangle\n",
    "      4 to find Area of Circle''')\n",
    "    opt = input('Enter your option to perform specific operation: ')\n",
    "    if(opt == '1'):\n",
    "        area_square()\n",
    "    elif(opt == '2'):\n",
    "        area_rectangle()\n",
    "    elif(opt == '3'):\n",
    "        area_triangle()\n",
    "    elif(opt == '4'):\n",
    "        area_circle()\n",
    "    else:\n",
    "        invalid_input()\n",
    "    \n",
    "input_fuct()"
   ]
  },
  {
   "cell_type": "markdown",
   "metadata": {},
   "source": [
    "### Problem 2:\n",
    "\n",
    "Create and encrypter in python based on the ceaser cipher. It is a substitution cipher where each character of the original text is shifted a certain number characters in the alphabet. Write a function that would require 2 arguments – the input text to be encrypted and a key. For eg: Given the input text ‘hello’ and the key 3, the resulting encryted text would be ‘khoor’. Here you can see that every character in the string hello is shifted by 3 characters. ‘h’ has shifted to ‘k’, ‘e’ has shifted to ‘h’ and so on. If a key of 5 were used, the resulting string would be ‘mjqqt’. This function should be capable of ignoring any characters which are not alphabets. Th2 character ‘z’ entered b\n",
    "y the user for a key of 3 would result in ‘c’.\n",
    "\n",
    "Usage:<br>\n",
    "**encrypt(‘hello world!’, 3)**<br>\n",
    "**‘khoor zruog!’**\n",
    "\n",
    "Similarly create decrypter which can decode the encryted text when provided the input text and key\n",
    "\n",
    "Usage:<br>\n",
    "**decrypt(‘khoor zruog!’, 3)**<br>\n",
    "**‘hello world!’**\n",
    "\n",
    "For the sake of simplicity you can assume that input solely consists of lowercase alphabets, spaces and punctuation symbols. Numbers in the input text would also be ignored similar to symbols."
   ]
  },
  {
   "cell_type": "code",
   "execution_count": 59,
   "metadata": {},
   "outputs": [
    {
     "name": "stdout",
     "output_type": "stream",
     "text": [
      "Encrypter\n",
      "Enter the string input: hello world!\n",
      "k h o o r   z r u o g ! \n",
      "\n",
      "Decrypter\n",
      "Enter the string input: khoor zruog!\n",
      "h e l l o   w o r l d ! "
     ]
    }
   ],
   "source": [
    "# Encryption\n",
    "print('Encrypter')\n",
    "string_input = input('Enter the string input: ')\n",
    "for i in string_input:\n",
    "    if i.isalpha():\n",
    "        encrypt = chr(ord(i)+3)\n",
    "        print(encrypt,end = ' ')\n",
    "    else:\n",
    "        print(i,end = ' ')\n",
    "        \n",
    "# Decryption \n",
    "print('\\n')\n",
    "print('Decrypter')\n",
    "string_input = input('Enter the string input: ')\n",
    "for j in string_input:\n",
    "    if j.isalpha():\n",
    "        decrypt =(chr(ord(j)-3))\n",
    "        print(decrypt,end = ' ')\n",
    "    else:\n",
    "        print(j,end = ' ')"
   ]
  },
  {
   "cell_type": "code",
   "execution_count": null,
   "metadata": {},
   "outputs": [],
   "source": [
    "n = int(input())\n",
    "for i in range(n):\n",
    "    inp = input()\n",
    "    "
   ]
  }
 ],
 "metadata": {
  "kernelspec": {
   "display_name": "Python 3",
   "language": "python",
   "name": "python3"
  },
  "language_info": {
   "codemirror_mode": {
    "name": "ipython",
    "version": 3
   },
   "file_extension": ".py",
   "mimetype": "text/x-python",
   "name": "python",
   "nbconvert_exporter": "python",
   "pygments_lexer": "ipython3",
   "version": "3.7.4"
  }
 },
 "nbformat": 4,
 "nbformat_minor": 2
}
